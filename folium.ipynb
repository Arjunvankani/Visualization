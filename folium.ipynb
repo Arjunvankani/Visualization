{
 "cells": [
  {
   "cell_type": "code",
   "execution_count": 26,
   "metadata": {},
   "outputs": [],
   "source": [
    "import pandas as pd\n",
    "#import geopandas as gpd\n",
    "import geopy\n",
    "from geopy.geocoders import Nominatim\n",
    "from geopy.extra.rate_limiter import RateLimiter\n",
    "import matplotlib.pyplot as plt\n",
    "import folium\n",
    "from folium.plugins import FastMarkerCluster"
   ]
  },
  {
   "cell_type": "code",
   "execution_count": 65,
   "metadata": {},
   "outputs": [
    {
     "data": {
      "text/html": [
       "<div style=\"width:100%;\"><div style=\"position:relative;width:100%;height:0;padding-bottom:60%;\"><iframe src=\"about:blank\" style=\"position:absolute;width:100%;height:100%;left:0;top:0;border:none !important;\" data-html=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 onload=\"this.contentDocument.open();this.contentDocument.write(atob(this.getAttribute('data-html')));this.contentDocument.close();\" allowfullscreen webkitallowfullscreen mozallowfullscreen></iframe></div></div>"
      ],
      "text/plain": [
       "<folium.folium.Map at 0x267d51662e8>"
      ]
     },
     "execution_count": 65,
     "metadata": {},
     "output_type": "execute_result"
    }
   ],
   "source": [
    "m=folium.Map(location=[21.313405   ,70.4425948])\n",
    "m"
   ]
  },
  {
   "cell_type": "code",
   "execution_count": 66,
   "metadata": {},
   "outputs": [],
   "source": [
    "from branca.element import Figure\n",
    "fig=Figure(width=550,height=350)"
   ]
  },
  {
   "cell_type": "code",
   "execution_count": 47,
   "metadata": {},
   "outputs": [
    {
     "data": {
      "text/html": [
       "<iframe src=\"about:blank\" width=\"550\" height=\"350\"style=\"border:none !important;\" data-html=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 onload=\"this.contentDocument.open();this.contentDocument.write(atob(this.getAttribute('data-html')));this.contentDocument.close();\" \"allowfullscreen\" \"webkitallowfullscreen\" \"mozallowfullscreen\"></iframe>"
      ],
      "text/plain": [
       "<folium.folium.Map at 0x267d61d23c8>"
      ]
     },
     "execution_count": 47,
     "metadata": {},
     "output_type": "execute_result"
    }
   ],
   "source": [
    "m1=folium.Map(width=550,height=350,location=[28.644800, 77.216721],zoom_start=11,min_zoom=8,max_zoom=14)\n",
    "fig.add_child(m1)\n",
    "m1"
   ]
  },
  {
   "cell_type": "code",
   "execution_count": 48,
   "metadata": {},
   "outputs": [
    {
     "data": {
      "text/html": [
       "<iframe src=\"about:blank\" width=\"550\" height=\"350\"style=\"border:none !important;\" data-html=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 onload=\"this.contentDocument.open();this.contentDocument.write(atob(this.getAttribute('data-html')));this.contentDocument.close();\" \"allowfullscreen\" \"webkitallowfullscreen\" \"mozallowfullscreen\"></iframe>"
      ],
      "text/plain": [
       "<folium.folium.Map at 0x267d61d2be0>"
      ]
     },
     "execution_count": 48,
     "metadata": {},
     "output_type": "execute_result"
    }
   ],
   "source": [
    "fig2=Figure(width=550,height=350)\n",
    "m2=folium.Map(location=[28.644800, 77.216721])\n",
    "fig2.add_child(m2)\n",
    "folium.TileLayer('Stamen Terrain').add_to(m2)\n",
    "folium.TileLayer('Stamen Toner').add_to(m2)\n",
    "folium.TileLayer('Stamen Water Color').add_to(m2)\n",
    "folium.TileLayer('cartodbpositron').add_to(m2)\n",
    "folium.TileLayer('cartodbdark_matter').add_to(m2)\n",
    "folium.LayerControl().add_to(m2)\n",
    "m2"
   ]
  },
  {
   "cell_type": "code",
   "execution_count": 49,
   "metadata": {},
   "outputs": [
    {
     "data": {
      "text/html": [
       "<iframe src=\"about:blank\" width=\"550\" height=\"350\"style=\"border:none !important;\" data-html=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 onload=\"this.contentDocument.open();this.contentDocument.write(atob(this.getAttribute('data-html')));this.contentDocument.close();\" \"allowfullscreen\" \"webkitallowfullscreen\" \"mozallowfullscreen\"></iframe>"
      ],
      "text/plain": [
       "<folium.folium.Map at 0x267d51bdf98>"
      ]
     },
     "execution_count": 49,
     "metadata": {},
     "output_type": "execute_result"
    }
   ],
   "source": [
    "# Creating Basemap\n",
    "fig3=Figure(width=550,height=350)\n",
    "m3=folium.Map(location=[28.644800, 77.216721],tiles='cartodbpositron',zoom_start=11)\n",
    "fig3.add_child(m3)\n",
    "\n",
    "#Adding markers to the map\n",
    "folium.Marker(location=[28.695800, 77.244721],popup='Default popup Marker1',tooltip='Click here to see Popup').add_to(m3)\n",
    "folium.Marker(location=[28.645800, 77.214721],popup='<strong>Marker3</strong>',tooltip='<strong>Click here to see Popup</strong>').add_to(m3)\n",
    "folium.Marker(location=[28.655800, 77.274721],popup='<h3 style=\"color:green;\">Marker2</h3>',tooltip='<strong>Click here to see Popup</strong>').add_to(m3)\n",
    "\n",
    "m3"
   ]
  },
  {
   "cell_type": "code",
   "execution_count": 50,
   "metadata": {},
   "outputs": [
    {
     "ename": "FileNotFoundError",
     "evalue": "[Errno 2] No such file or directory: 'av.png'",
     "output_type": "error",
     "traceback": [
      "\u001b[1;31m---------------------------------------------------------------------------\u001b[0m",
      "\u001b[1;31mFileNotFoundError\u001b[0m                         Traceback (most recent call last)",
      "\u001b[1;32m<ipython-input-50-da7c72c63b84>\u001b[0m in \u001b[0;36m<module>\u001b[1;34m\u001b[0m\n\u001b[0;32m      7\u001b[0m \u001b[0mfolium\u001b[0m\u001b[1;33m.\u001b[0m\u001b[0mMarker\u001b[0m\u001b[1;33m(\u001b[0m\u001b[0mlocation\u001b[0m\u001b[1;33m=\u001b[0m\u001b[1;33m[\u001b[0m\u001b[1;36m28.4411091\u001b[0m\u001b[1;33m,\u001b[0m\u001b[1;36m77.1167361\u001b[0m\u001b[1;33m]\u001b[0m\u001b[1;33m,\u001b[0m\u001b[0mpopup\u001b[0m\u001b[1;33m=\u001b[0m\u001b[1;34m'Custom Marker 2'\u001b[0m\u001b[1;33m,\u001b[0m\u001b[0mtooltip\u001b[0m\u001b[1;33m=\u001b[0m\u001b[1;34m'<strong>Click here to see Popup</strong>'\u001b[0m\u001b[1;33m,\u001b[0m\u001b[0micon\u001b[0m\u001b[1;33m=\u001b[0m\u001b[0mfolium\u001b[0m\u001b[1;33m.\u001b[0m\u001b[0mIcon\u001b[0m\u001b[1;33m(\u001b[0m\u001b[0mcolor\u001b[0m\u001b[1;33m=\u001b[0m\u001b[1;34m'green'\u001b[0m\u001b[1;33m,\u001b[0m\u001b[0mprefix\u001b[0m\u001b[1;33m=\u001b[0m\u001b[1;34m'glyphicon'\u001b[0m\u001b[1;33m,\u001b[0m\u001b[0micon\u001b[0m\u001b[1;33m=\u001b[0m\u001b[1;34m'off'\u001b[0m\u001b[1;33m)\u001b[0m\u001b[1;33m)\u001b[0m\u001b[1;33m.\u001b[0m\u001b[0madd_to\u001b[0m\u001b[1;33m(\u001b[0m\u001b[0mm4\u001b[0m\u001b[1;33m)\u001b[0m\u001b[1;33m\u001b[0m\u001b[1;33m\u001b[0m\u001b[0m\n\u001b[0;32m      8\u001b[0m \u001b[0mfolium\u001b[0m\u001b[1;33m.\u001b[0m\u001b[0mMarker\u001b[0m\u001b[1;33m(\u001b[0m\u001b[0mlocation\u001b[0m\u001b[1;33m=\u001b[0m\u001b[1;33m[\u001b[0m\u001b[1;36m28.4511091\u001b[0m\u001b[1;33m,\u001b[0m\u001b[1;36m77.1667361\u001b[0m\u001b[1;33m]\u001b[0m\u001b[1;33m,\u001b[0m\u001b[0mpopup\u001b[0m\u001b[1;33m=\u001b[0m\u001b[1;34m'Custom Marker 3'\u001b[0m\u001b[1;33m,\u001b[0m\u001b[0mtooltip\u001b[0m\u001b[1;33m=\u001b[0m\u001b[1;34m'<strong>Click here to see Popup</strong>'\u001b[0m\u001b[1;33m,\u001b[0m\u001b[0micon\u001b[0m\u001b[1;33m=\u001b[0m\u001b[0mfolium\u001b[0m\u001b[1;33m.\u001b[0m\u001b[0mIcon\u001b[0m\u001b[1;33m(\u001b[0m\u001b[0mcolor\u001b[0m\u001b[1;33m=\u001b[0m\u001b[1;34m'purple'\u001b[0m\u001b[1;33m,\u001b[0m\u001b[0mprefix\u001b[0m\u001b[1;33m=\u001b[0m\u001b[1;34m'fa'\u001b[0m\u001b[1;33m,\u001b[0m\u001b[0micon\u001b[0m\u001b[1;33m=\u001b[0m\u001b[1;34m'anchor'\u001b[0m\u001b[1;33m)\u001b[0m\u001b[1;33m)\u001b[0m\u001b[1;33m.\u001b[0m\u001b[0madd_to\u001b[0m\u001b[1;33m(\u001b[0m\u001b[0mm4\u001b[0m\u001b[1;33m)\u001b[0m\u001b[1;33m\u001b[0m\u001b[1;33m\u001b[0m\u001b[0m\n\u001b[1;32m----> 9\u001b[1;33m \u001b[0mfolium\u001b[0m\u001b[1;33m.\u001b[0m\u001b[0mMarker\u001b[0m\u001b[1;33m(\u001b[0m\u001b[0mlocation\u001b[0m\u001b[1;33m=\u001b[0m\u001b[1;33m[\u001b[0m\u001b[1;36m28.4911091\u001b[0m\u001b[1;33m,\u001b[0m\u001b[1;36m77.0867361\u001b[0m\u001b[1;33m]\u001b[0m\u001b[1;33m,\u001b[0m\u001b[0mpopup\u001b[0m\u001b[1;33m=\u001b[0m\u001b[1;34m'Custom Marker 4- <b>Analytics Vidhya</b>'\u001b[0m\u001b[1;33m,\u001b[0m\u001b[0mtooltip\u001b[0m\u001b[1;33m=\u001b[0m\u001b[1;34m'<strong>Click here to see Popup</strong>'\u001b[0m\u001b[1;33m,\u001b[0m\u001b[0micon\u001b[0m\u001b[1;33m=\u001b[0m\u001b[0mfolium\u001b[0m\u001b[1;33m.\u001b[0m\u001b[0mfeatures\u001b[0m\u001b[1;33m.\u001b[0m\u001b[0mCustomIcon\u001b[0m\u001b[1;33m(\u001b[0m\u001b[1;34m'av.png'\u001b[0m\u001b[1;33m,\u001b[0m\u001b[0micon_size\u001b[0m\u001b[1;33m=\u001b[0m\u001b[1;33m(\u001b[0m\u001b[1;36m50\u001b[0m\u001b[1;33m,\u001b[0m\u001b[1;36m50\u001b[0m\u001b[1;33m)\u001b[0m\u001b[1;33m)\u001b[0m\u001b[1;33m)\u001b[0m\u001b[1;33m.\u001b[0m\u001b[0madd_to\u001b[0m\u001b[1;33m(\u001b[0m\u001b[0mm4\u001b[0m\u001b[1;33m)\u001b[0m\u001b[1;33m\u001b[0m\u001b[1;33m\u001b[0m\u001b[0m\n\u001b[0m\u001b[0;32m     10\u001b[0m \u001b[1;33m\u001b[0m\u001b[0m\n\u001b[0;32m     11\u001b[0m \u001b[0mm4\u001b[0m\u001b[1;33m\u001b[0m\u001b[1;33m\u001b[0m\u001b[0m\n",
      "\u001b[1;32mc:\\users\\arjun vankani\\appdata\\local\\programs\\python\\python37\\lib\\site-packages\\folium\\features.py\u001b[0m in \u001b[0;36m__init__\u001b[1;34m(self, icon_image, icon_size, icon_anchor, shadow_image, shadow_size, shadow_anchor, popup_anchor)\u001b[0m\n\u001b[0;32m   1328\u001b[0m         \u001b[0mself\u001b[0m\u001b[1;33m.\u001b[0m\u001b[0m_name\u001b[0m \u001b[1;33m=\u001b[0m \u001b[1;34m'CustomIcon'\u001b[0m\u001b[1;33m\u001b[0m\u001b[1;33m\u001b[0m\u001b[0m\n\u001b[0;32m   1329\u001b[0m         self.options = parse_options(\n\u001b[1;32m-> 1330\u001b[1;33m             \u001b[0micon_url\u001b[0m\u001b[1;33m=\u001b[0m\u001b[0mimage_to_url\u001b[0m\u001b[1;33m(\u001b[0m\u001b[0micon_image\u001b[0m\u001b[1;33m)\u001b[0m\u001b[1;33m,\u001b[0m\u001b[1;33m\u001b[0m\u001b[1;33m\u001b[0m\u001b[0m\n\u001b[0m\u001b[0;32m   1331\u001b[0m             \u001b[0micon_size\u001b[0m\u001b[1;33m=\u001b[0m\u001b[0micon_size\u001b[0m\u001b[1;33m,\u001b[0m\u001b[1;33m\u001b[0m\u001b[1;33m\u001b[0m\u001b[0m\n\u001b[0;32m   1332\u001b[0m             \u001b[0micon_anchor\u001b[0m\u001b[1;33m=\u001b[0m\u001b[0micon_anchor\u001b[0m\u001b[1;33m,\u001b[0m\u001b[1;33m\u001b[0m\u001b[1;33m\u001b[0m\u001b[0m\n",
      "\u001b[1;32mc:\\users\\arjun vankani\\appdata\\local\\programs\\python\\python37\\lib\\site-packages\\folium\\utilities.py\u001b[0m in \u001b[0;36mimage_to_url\u001b[1;34m(image, colormap, origin)\u001b[0m\n\u001b[0;32m    131\u001b[0m     \u001b[1;32mif\u001b[0m \u001b[0misinstance\u001b[0m\u001b[1;33m(\u001b[0m\u001b[0mimage\u001b[0m\u001b[1;33m,\u001b[0m \u001b[0mstr\u001b[0m\u001b[1;33m)\u001b[0m \u001b[1;32mand\u001b[0m \u001b[1;32mnot\u001b[0m \u001b[0m_is_url\u001b[0m\u001b[1;33m(\u001b[0m\u001b[0mimage\u001b[0m\u001b[1;33m)\u001b[0m\u001b[1;33m:\u001b[0m\u001b[1;33m\u001b[0m\u001b[1;33m\u001b[0m\u001b[0m\n\u001b[0;32m    132\u001b[0m         \u001b[0mfileformat\u001b[0m \u001b[1;33m=\u001b[0m \u001b[0mos\u001b[0m\u001b[1;33m.\u001b[0m\u001b[0mpath\u001b[0m\u001b[1;33m.\u001b[0m\u001b[0msplitext\u001b[0m\u001b[1;33m(\u001b[0m\u001b[0mimage\u001b[0m\u001b[1;33m)\u001b[0m\u001b[1;33m[\u001b[0m\u001b[1;33m-\u001b[0m\u001b[1;36m1\u001b[0m\u001b[1;33m]\u001b[0m\u001b[1;33m[\u001b[0m\u001b[1;36m1\u001b[0m\u001b[1;33m:\u001b[0m\u001b[1;33m]\u001b[0m\u001b[1;33m\u001b[0m\u001b[1;33m\u001b[0m\u001b[0m\n\u001b[1;32m--> 133\u001b[1;33m         \u001b[1;32mwith\u001b[0m \u001b[0mio\u001b[0m\u001b[1;33m.\u001b[0m\u001b[0mopen\u001b[0m\u001b[1;33m(\u001b[0m\u001b[0mimage\u001b[0m\u001b[1;33m,\u001b[0m \u001b[1;34m'rb'\u001b[0m\u001b[1;33m)\u001b[0m \u001b[1;32mas\u001b[0m \u001b[0mf\u001b[0m\u001b[1;33m:\u001b[0m\u001b[1;33m\u001b[0m\u001b[1;33m\u001b[0m\u001b[0m\n\u001b[0m\u001b[0;32m    134\u001b[0m             \u001b[0mimg\u001b[0m \u001b[1;33m=\u001b[0m \u001b[0mf\u001b[0m\u001b[1;33m.\u001b[0m\u001b[0mread\u001b[0m\u001b[1;33m(\u001b[0m\u001b[1;33m)\u001b[0m\u001b[1;33m\u001b[0m\u001b[1;33m\u001b[0m\u001b[0m\n\u001b[0;32m    135\u001b[0m         \u001b[0mb64encoded\u001b[0m \u001b[1;33m=\u001b[0m \u001b[0mbase64\u001b[0m\u001b[1;33m.\u001b[0m\u001b[0mb64encode\u001b[0m\u001b[1;33m(\u001b[0m\u001b[0mimg\u001b[0m\u001b[1;33m)\u001b[0m\u001b[1;33m.\u001b[0m\u001b[0mdecode\u001b[0m\u001b[1;33m(\u001b[0m\u001b[1;34m'utf-8'\u001b[0m\u001b[1;33m)\u001b[0m\u001b[1;33m\u001b[0m\u001b[1;33m\u001b[0m\u001b[0m\n",
      "\u001b[1;31mFileNotFoundError\u001b[0m: [Errno 2] No such file or directory: 'av.png'"
     ]
    }
   ],
   "source": [
    "fig4=Figure(height=350,width=550)\n",
    "m4=folium.Map(location=[28.4911091,77.0867361],tiles='cartodbpositron',zoom_start=11)\n",
    "fig4.add_child(m4)\n",
    "\n",
    "# Adding Custom Markers\n",
    "folium.Marker(location=[28.4211091,77.0267361],popup='Custom Marker 1',tooltip='<strong>Click here to see Popup</strong>',icon=folium.Icon(color='red',icon='none')).add_to(m4)\n",
    "folium.Marker(location=[28.4411091,77.1167361],popup='Custom Marker 2',tooltip='<strong>Click here to see Popup</strong>',icon=folium.Icon(color='green',prefix='glyphicon',icon='off')).add_to(m4)\n",
    "folium.Marker(location=[28.4511091,77.1667361],popup='Custom Marker 3',tooltip='<strong>Click here to see Popup</strong>',icon=folium.Icon(color='purple',prefix='fa',icon='anchor')).add_to(m4)\n",
    "folium.Marker(location=[28.4911091,77.0867361],popup='Custom Marker 4- <b>Analytics Vidhya</b>',tooltip='<strong>Click here to see Popup</strong>',icon=folium.features.CustomIcon('av.png',icon_size=(50,50))).add_to(m4)\n",
    "\n",
    "m4"
   ]
  },
  {
   "cell_type": "code",
   "execution_count": 51,
   "metadata": {},
   "outputs": [],
   "source": [
    "coords_1=[[28.65685,77.21899],[28.65699,77.21898],[28.65699,77.21898],\n",
    "[28.65702,77.21875],[28.65702,77.21875],[28.6547,77.21902],[28.65308,77.21921],\n",
    "[28.65286,77.21926],[28.65255,77.21938],[28.65227,77.21954],[28.65152,77.22005],\n",
    "[28.64655,77.22346],[28.64643,77.22354],[28.64635,77.22357],[28.64623,77.2236],\n",
    "[28.64616,77.22363],[28.64612,77.22364],[28.64557,77.22364],[28.64525,77.22365],\n",
    "[28.64525,77.22365],[28.64517,77.22366],[28.64515,77.22367],[28.64512,77.22367],\n",
    "[28.64504,77.22369],[28.64493,77.22371],[28.64483,77.22373],[28.64462,77.22377],\n",
    "[28.6445,77.22381],[28.64444,77.22383],[28.64439,77.22387],[28.64434,77.2239],\n",
    "[28.64429,77.22395],[28.64421,77.22403],[28.64417,77.22412],[28.64407,77.22429],\n",
    "[28.64391,77.22465],[28.64353,77.22539],[28.64282,77.22678],[28.64282,77.22678],\n",
    "[28.64285,77.2268],[28.64287,77.22683],[28.64289,77.22686],[28.64291,77.2269],\n",
    "[28.64292,77.22694],[28.64292,77.22697],[28.64292,77.22701],[28.64292,77.22705],\n",
    "[28.64292,77.22705],[28.64291,77.22711],[28.64288,77.22716],[28.64285,77.2272],\n",
    "[28.64281,77.22724],[28.64276,77.22726],[28.64271,77.22728],[28.64266,77.22728],\n",
    "[28.64261,77.22727],[28.64261,77.22727],[28.64257,77.22725],[28.64254,77.22723],\n",
    "[28.64251,77.2272],[28.64249,77.22717],[28.64247,77.22713],[28.64245,77.22709],\n",
    "[28.64244,77.22704],[28.64244,77.22699],[28.64245,77.22693],[28.64246,77.22689],\n",
    "[28.64214,77.22665],[28.64169,77.22632],[28.64163,77.22627],[28.64095,77.22582],\n",
    "[28.64009,77.22516],[28.63913,77.22445],[28.63799,77.22352],[28.63794,77.22349],\n",
    "[28.63761,77.22327],[28.6375,77.2232],[28.63737,77.22311],[28.63727,77.22304],\n",
    "[28.63706,77.22288],[28.63631,77.22233],[28.63528,77.2216],[28.63521,77.22154],\n",
    "[28.63521,77.22154],[28.63518,77.22158],[28.63499,77.2218],[28.63471,77.22212],\n",
    "[28.63442,77.22238],[28.63411,77.2226],[28.6339,77.22272],[28.63368,77.22282],\n",
    "[28.63345,77.2229],[28.63313,77.22297],[28.63281,77.22299],[28.63249,77.22298],\n",
    "[28.63217,77.22293],[28.63186,77.22283],[28.63141,77.22256],[28.63125,77.2224],\n",
    "[28.63101,77.22227],[28.63082,77.22207],[28.63062,77.22185],[28.63046,77.22162],\n",
    "[28.63029,77.22141],[28.63029,77.22141],[28.63026,77.22138],[28.63022,77.22136],\n",
    "[28.63018,77.22135],[28.63014,77.22134],[28.6301,77.22134],[28.63006,77.22135],\n",
    "[28.63004,77.22135],[28.63004,77.22135]]\n",
    "\n",
    "coords_2=[[28.63382,77.22045],[28.63458,77.221],[28.63514,77.22142],\n",
    "[28.63517,77.22146],[28.63519,77.22151],[28.63518,77.22158],[28.63518,77.22158],\n",
    "[28.63499,77.2218],[28.63471,77.22212],[28.63442,77.22238],[28.63411,77.2226],\n",
    "[28.6339,77.22272],[28.63368,77.22282],[28.63345,77.2229],[28.63313,77.22297],\n",
    "[28.63281,77.22299],[28.63249,77.22298],[28.63217,77.22293],[28.63186,77.22283],\n",
    "[28.63141,77.22256],[28.63141,77.22256],[28.63129,77.22258],[28.63121,77.22259],\n",
    "[28.63113,77.22266],[28.63072,77.22335],[28.63063,77.22353],[28.63059,77.22359],\n",
    "[28.63046,77.22381],[28.63043,77.22388],[28.62914,77.22615],[28.62914,77.22615],\n",
    "[28.62922,77.22648],[28.62923,77.22651],[28.62924,77.22653],[28.62925,77.22655],\n",
    "[28.62926,77.22657],[28.62935,77.22665],[28.62937,77.22667],[28.62938,77.22669],\n",
    "[28.62939,77.22672],[28.62943,77.22682],[28.62943,77.22682],[28.62972,77.22701],\n",
    "[28.63027,77.22744],[28.63436,77.23048],[28.63456,77.2306],[28.63482,77.23072],\n",
    "[28.63511,77.23084],[28.63545,77.23091],[28.63581,77.23095],[28.63656,77.23101],\n",
    "[28.63673,77.23102],[28.63824,77.23116],[28.63985,77.23134],[28.64039,77.23144],\n",
    "[28.64039,77.23144],[28.64049,77.23147],[28.64038,77.23156],[28.64022,77.23153],\n",
    "[28.64022,77.23153]]\n",
    "\n",
    "coords_3=[[28.63216,77.21864],[28.63225,77.21858],[28.63237,77.21851],\n",
    "[28.6325,77.21846],[28.63262,77.21843],[28.63279,77.21841],[28.63295,77.21843],\n",
    "[28.63311,77.21846],[28.63326,77.21853],[28.63341,77.21862],[28.63341,77.21862],\n",
    "[28.63394,77.21768],[28.6342,77.21722],[28.63425,77.21713],[28.6343,77.21704],\n",
    "[28.6343,77.21704],[28.63432,77.21686],[28.63495,77.21581],[28.6357,77.21452],\n",
    "[28.63745,77.21151],[28.63951,77.20794],[28.63956,77.20787],[28.63971,77.20763],\n",
    "[28.64055,77.2061],[28.64096,77.20533],[28.64106,77.20519],[28.64121,77.20486],\n",
    "[28.64132,77.20468],[28.64179,77.20418],[28.64222,77.20381],[28.64254,77.20346],\n",
    "[28.64267,77.20333],[28.64277,77.2032],[28.64277,77.2032],[28.64281,77.20314],\n",
    "[28.64285,77.20309],[28.64291,77.20306],[28.64297,77.20304],[28.64303,77.20303],\n",
    "[28.64309,77.20304],[28.64315,77.20306],[28.6432,77.2031],[28.64324,77.20314],\n",
    "[28.64327,77.2032],[28.64327,77.2032],[28.64341,77.20336],[28.64375,77.20351],\n",
    "[28.64406,77.20367],[28.64495,77.20426],[28.6459,77.20495],[28.64612,77.2051],\n",
    "[28.64612,77.2051],[28.64629,77.2051],[28.64639,77.20508],[28.64648,77.20506],\n",
    "[28.64657,77.20497],[28.64659,77.20495],[28.64659,77.20495]]"
   ]
  },
  {
   "cell_type": "code",
   "execution_count": 52,
   "metadata": {},
   "outputs": [
    {
     "data": {
      "text/html": [
       "<iframe src=\"about:blank\" width=\"750\" height=\"550\"style=\"border:none !important;\" data-html=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 onload=\"this.contentDocument.open();this.contentDocument.write(atob(this.getAttribute('data-html')));this.contentDocument.close();\" \"allowfullscreen\" \"webkitallowfullscreen\" \"mozallowfullscreen\"></iframe>"
      ],
      "text/plain": [
       "<branca.element.Figure at 0x267d620b0f0>"
      ]
     },
     "execution_count": 52,
     "metadata": {},
     "output_type": "execute_result"
    }
   ],
   "source": [
    "fig5=Figure(height=550,width=750)\n",
    "m5=folium.Map(location=[28.644800, 77.216721],tiles='cartodbpositron',zoom_start=14)\n",
    "fig5.add_child(m5)"
   ]
  },
  {
   "cell_type": "code",
   "execution_count": 53,
   "metadata": {},
   "outputs": [],
   "source": [
    "f1=folium.FeatureGroup(\"Vehicle 1\")\n",
    "f2=folium.FeatureGroup(\"Vehicle 2\")\n",
    "f3=folium.FeatureGroup(\"Vehicle 3\")\n",
    "\n",
    "# Adding lines to the different feature groups\n",
    "line_1=folium.vector_layers.PolyLine(coords_1,popup='<b>Path of Vehicle_1</b>',tooltip='Vehicle_1',color='blue',weight=10).add_to(f1)\n",
    "line_2=folium.vector_layers.PolyLine(coords_2,popup='<b>Path of Vehicle_2</b>',tooltip='Vehicle_2',color='red',weight=10).add_to(f2)\n",
    "line_3=folium.vector_layers.PolyLine(coords_3,popup='<b>Path of Vehicle_3</b>',tooltip='Vehicle_3',color='green',weight=10).add_to(f3)\n"
   ]
  },
  {
   "cell_type": "code",
   "execution_count": 54,
   "metadata": {},
   "outputs": [
    {
     "data": {
      "text/html": [
       "<iframe src=\"about:blank\" width=\"750\" height=\"550\"style=\"border:none !important;\" data-html=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 onload=\"this.contentDocument.open();this.contentDocument.write(atob(this.getAttribute('data-html')));this.contentDocument.close();\" \"allowfullscreen\" \"webkitallowfullscreen\" \"mozallowfullscreen\"></iframe>"
      ],
      "text/plain": [
       "<folium.folium.Map at 0x267d620b128>"
      ]
     },
     "execution_count": 54,
     "metadata": {},
     "output_type": "execute_result"
    }
   ],
   "source": [
    "f1.add_to(m5)\n",
    "f2.add_to(m5)\n",
    "f3.add_to(m5)\n",
    "folium.LayerControl().add_to(m5)\n",
    "m5"
   ]
  },
  {
   "cell_type": "code",
   "execution_count": null,
   "metadata": {},
   "outputs": [],
   "source": []
  },
  {
   "cell_type": "code",
   "execution_count": null,
   "metadata": {},
   "outputs": [],
   "source": []
  },
  {
   "cell_type": "code",
   "execution_count": null,
   "metadata": {},
   "outputs": [],
   "source": []
  },
  {
   "cell_type": "code",
   "execution_count": 27,
   "metadata": {},
   "outputs": [],
   "source": [
    "locator = Nominatim(user_agent=\"myGeocoder\")\n",
    "location = locator.geocode(\"Champ de Mars, Paris, France\")\n"
   ]
  },
  {
   "cell_type": "code",
   "execution_count": 28,
   "metadata": {},
   "outputs": [
    {
     "name": "stdout",
     "output_type": "stream",
     "text": [
      "Champ de Mars, Place Edwige Feuillère, Quartier du Gros-Caillou, Paris, Île-de-France, France métropolitaine, 75007, France\n",
      "Latitude = 48.85614465, Longitude = 2.297820393322227\n"
     ]
    }
   ],
   "source": [
    "print(location.address)\n",
    "print(\"Latitude = {}, Longitude = {}\".format(location.latitude, location.longitude))"
   ]
  },
  {
   "cell_type": "code",
   "execution_count": 29,
   "metadata": {},
   "outputs": [
    {
     "data": {
      "text/html": [
       "<div>\n",
       "<style scoped>\n",
       "    .dataframe tbody tr th:only-of-type {\n",
       "        vertical-align: middle;\n",
       "    }\n",
       "\n",
       "    .dataframe tbody tr th {\n",
       "        vertical-align: top;\n",
       "    }\n",
       "\n",
       "    .dataframe thead th {\n",
       "        text-align: right;\n",
       "    }\n",
       "</style>\n",
       "<table border=\"1\" class=\"dataframe\">\n",
       "  <thead>\n",
       "    <tr style=\"text-align: right;\">\n",
       "      <th></th>\n",
       "      <th>Unnamed: 0</th>\n",
       "      <th>Typ</th>\n",
       "      <th>Nr</th>\n",
       "      <th>Namn</th>\n",
       "      <th>Address1</th>\n",
       "      <th>Address3</th>\n",
       "      <th>Address4</th>\n",
       "      <th>Address5</th>\n",
       "      <th>Telefon</th>\n",
       "    </tr>\n",
       "  </thead>\n",
       "  <tbody>\n",
       "    <tr>\n",
       "      <th>0</th>\n",
       "      <td>0</td>\n",
       "      <td>Butik</td>\n",
       "      <td>102</td>\n",
       "      <td>Fältöversten</td>\n",
       "      <td>Karlaplan 13</td>\n",
       "      <td>115 20</td>\n",
       "      <td>STOCKHOLM</td>\n",
       "      <td>Stockholms län</td>\n",
       "      <td>08/662 22 89</td>\n",
       "    </tr>\n",
       "    <tr>\n",
       "      <th>1</th>\n",
       "      <td>1</td>\n",
       "      <td>Butik</td>\n",
       "      <td>104</td>\n",
       "      <td>NaN</td>\n",
       "      <td>Nybrogatan 47</td>\n",
       "      <td>114 39</td>\n",
       "      <td>STOCKHOLM</td>\n",
       "      <td>Stockholms län</td>\n",
       "      <td>08/662 50 16</td>\n",
       "    </tr>\n",
       "    <tr>\n",
       "      <th>2</th>\n",
       "      <td>2</td>\n",
       "      <td>Butik</td>\n",
       "      <td>106</td>\n",
       "      <td>Garnisonen</td>\n",
       "      <td>Karlavägen 100 A</td>\n",
       "      <td>115 26</td>\n",
       "      <td>STOCKHOLM</td>\n",
       "      <td>Stockholms län</td>\n",
       "      <td>08/662 64 85</td>\n",
       "    </tr>\n",
       "    <tr>\n",
       "      <th>3</th>\n",
       "      <td>3</td>\n",
       "      <td>Butik</td>\n",
       "      <td>110</td>\n",
       "      <td>NaN</td>\n",
       "      <td>Hötorgshallen</td>\n",
       "      <td>111 57</td>\n",
       "      <td>STOCKHOLM</td>\n",
       "      <td>Stockholms län</td>\n",
       "      <td>08/56849241</td>\n",
       "    </tr>\n",
       "    <tr>\n",
       "      <th>4</th>\n",
       "      <td>4</td>\n",
       "      <td>Butik</td>\n",
       "      <td>113</td>\n",
       "      <td>Sergel</td>\n",
       "      <td>Drottninggatan 45</td>\n",
       "      <td>111 21</td>\n",
       "      <td>STOCKHOLM</td>\n",
       "      <td>Stockholms län</td>\n",
       "      <td>08/21 47 44</td>\n",
       "    </tr>\n",
       "  </tbody>\n",
       "</table>\n",
       "</div>"
      ],
      "text/plain": [
       "   Unnamed: 0    Typ   Nr          Namn           Address1 Address3  \\\n",
       "0           0  Butik  102  Fältöversten       Karlaplan 13   115 20   \n",
       "1           1  Butik  104           NaN      Nybrogatan 47   114 39   \n",
       "2           2  Butik  106    Garnisonen   Karlavägen 100 A   115 26   \n",
       "3           3  Butik  110           NaN      Hötorgshallen   111 57   \n",
       "4           4  Butik  113        Sergel  Drottninggatan 45   111 21   \n",
       "\n",
       "    Address4        Address5       Telefon  \n",
       "0  STOCKHOLM  Stockholms län  08/662 22 89  \n",
       "1  STOCKHOLM  Stockholms län  08/662 50 16  \n",
       "2  STOCKHOLM  Stockholms län  08/662 64 85  \n",
       "3  STOCKHOLM  Stockholms län   08/56849241  \n",
       "4  STOCKHOLM  Stockholms län   08/21 47 44  "
      ]
     },
     "execution_count": 29,
     "metadata": {},
     "output_type": "execute_result"
    }
   ],
   "source": [
    "df = pd.read_csv(\"addresses.csv\")\n",
    "df.head()"
   ]
  },
  {
   "cell_type": "code",
   "execution_count": 30,
   "metadata": {},
   "outputs": [
    {
     "data": {
      "text/html": [
       "<div>\n",
       "<style scoped>\n",
       "    .dataframe tbody tr th:only-of-type {\n",
       "        vertical-align: middle;\n",
       "    }\n",
       "\n",
       "    .dataframe tbody tr th {\n",
       "        vertical-align: top;\n",
       "    }\n",
       "\n",
       "    .dataframe thead th {\n",
       "        text-align: right;\n",
       "    }\n",
       "</style>\n",
       "<table border=\"1\" class=\"dataframe\">\n",
       "  <thead>\n",
       "    <tr style=\"text-align: right;\">\n",
       "      <th></th>\n",
       "      <th>Unnamed: 0</th>\n",
       "      <th>Typ</th>\n",
       "      <th>Nr</th>\n",
       "      <th>Namn</th>\n",
       "      <th>Address1</th>\n",
       "      <th>Address3</th>\n",
       "      <th>Address4</th>\n",
       "      <th>Address5</th>\n",
       "      <th>Telefon</th>\n",
       "      <th>ADDRESS</th>\n",
       "    </tr>\n",
       "  </thead>\n",
       "  <tbody>\n",
       "    <tr>\n",
       "      <th>0</th>\n",
       "      <td>0</td>\n",
       "      <td>Butik</td>\n",
       "      <td>102</td>\n",
       "      <td>Fältöversten</td>\n",
       "      <td>Karlaplan 13</td>\n",
       "      <td>115 20</td>\n",
       "      <td>STOCKHOLM</td>\n",
       "      <td>Stockholms län</td>\n",
       "      <td>08/662 22 89</td>\n",
       "      <td>Karlaplan 13,115 20,STOCKHOLM,Stockholms län, ...</td>\n",
       "    </tr>\n",
       "    <tr>\n",
       "      <th>1</th>\n",
       "      <td>1</td>\n",
       "      <td>Butik</td>\n",
       "      <td>104</td>\n",
       "      <td>NaN</td>\n",
       "      <td>Nybrogatan 47</td>\n",
       "      <td>114 39</td>\n",
       "      <td>STOCKHOLM</td>\n",
       "      <td>Stockholms län</td>\n",
       "      <td>08/662 50 16</td>\n",
       "      <td>Nybrogatan 47,114 39,STOCKHOLM,Stockholms län,...</td>\n",
       "    </tr>\n",
       "    <tr>\n",
       "      <th>2</th>\n",
       "      <td>2</td>\n",
       "      <td>Butik</td>\n",
       "      <td>106</td>\n",
       "      <td>Garnisonen</td>\n",
       "      <td>Karlavägen 100 A</td>\n",
       "      <td>115 26</td>\n",
       "      <td>STOCKHOLM</td>\n",
       "      <td>Stockholms län</td>\n",
       "      <td>08/662 64 85</td>\n",
       "      <td>Karlavägen 100 A,115 26,STOCKHOLM,Stockholms l...</td>\n",
       "    </tr>\n",
       "    <tr>\n",
       "      <th>3</th>\n",
       "      <td>3</td>\n",
       "      <td>Butik</td>\n",
       "      <td>110</td>\n",
       "      <td>NaN</td>\n",
       "      <td>Hötorgshallen</td>\n",
       "      <td>111 57</td>\n",
       "      <td>STOCKHOLM</td>\n",
       "      <td>Stockholms län</td>\n",
       "      <td>08/56849241</td>\n",
       "      <td>Hötorgshallen,111 57,STOCKHOLM,Stockholms län,...</td>\n",
       "    </tr>\n",
       "    <tr>\n",
       "      <th>4</th>\n",
       "      <td>4</td>\n",
       "      <td>Butik</td>\n",
       "      <td>113</td>\n",
       "      <td>Sergel</td>\n",
       "      <td>Drottninggatan 45</td>\n",
       "      <td>111 21</td>\n",
       "      <td>STOCKHOLM</td>\n",
       "      <td>Stockholms län</td>\n",
       "      <td>08/21 47 44</td>\n",
       "      <td>Drottninggatan 45,111 21,STOCKHOLM,Stockholms ...</td>\n",
       "    </tr>\n",
       "  </tbody>\n",
       "</table>\n",
       "</div>"
      ],
      "text/plain": [
       "   Unnamed: 0    Typ   Nr          Namn           Address1 Address3  \\\n",
       "0           0  Butik  102  Fältöversten       Karlaplan 13   115 20   \n",
       "1           1  Butik  104           NaN      Nybrogatan 47   114 39   \n",
       "2           2  Butik  106    Garnisonen   Karlavägen 100 A   115 26   \n",
       "3           3  Butik  110           NaN      Hötorgshallen   111 57   \n",
       "4           4  Butik  113        Sergel  Drottninggatan 45   111 21   \n",
       "\n",
       "    Address4        Address5       Telefon  \\\n",
       "0  STOCKHOLM  Stockholms län  08/662 22 89   \n",
       "1  STOCKHOLM  Stockholms län  08/662 50 16   \n",
       "2  STOCKHOLM  Stockholms län  08/662 64 85   \n",
       "3  STOCKHOLM  Stockholms län   08/56849241   \n",
       "4  STOCKHOLM  Stockholms län   08/21 47 44   \n",
       "\n",
       "                                             ADDRESS  \n",
       "0  Karlaplan 13,115 20,STOCKHOLM,Stockholms län, ...  \n",
       "1  Nybrogatan 47,114 39,STOCKHOLM,Stockholms län,...  \n",
       "2  Karlavägen 100 A,115 26,STOCKHOLM,Stockholms l...  \n",
       "3  Hötorgshallen,111 57,STOCKHOLM,Stockholms län,...  \n",
       "4  Drottninggatan 45,111 21,STOCKHOLM,Stockholms ...  "
      ]
     },
     "execution_count": 30,
     "metadata": {},
     "output_type": "execute_result"
    }
   ],
   "source": [
    "df['ADDRESS'] = df['Address1'].astype(str) + ',' + \\\n",
    "                df['Address3'] + ',' + \\\n",
    "                df['Address4'] + ',' + \\\n",
    "                df['Address5'] + ',' + ' Sweden'   \n",
    "\n",
    "df.head()"
   ]
  },
  {
   "cell_type": "code",
   "execution_count": 31,
   "metadata": {},
   "outputs": [],
   "source": [
    "from geopy.extra.rate_limiter import RateLimiter\n",
    "geocode = RateLimiter(locator.geocode, min_delay_seconds=1)\n",
    "df['location'] = df['ADDRESS'].apply(geocode)\n",
    "df['point'] = df['location'].apply(lambda loc: tuple(loc.point) if loc else None)"
   ]
  },
  {
   "cell_type": "code",
   "execution_count": 32,
   "metadata": {},
   "outputs": [
    {
     "data": {
      "text/html": [
       "<div>\n",
       "<style scoped>\n",
       "    .dataframe tbody tr th:only-of-type {\n",
       "        vertical-align: middle;\n",
       "    }\n",
       "\n",
       "    .dataframe tbody tr th {\n",
       "        vertical-align: top;\n",
       "    }\n",
       "\n",
       "    .dataframe thead th {\n",
       "        text-align: right;\n",
       "    }\n",
       "</style>\n",
       "<table border=\"1\" class=\"dataframe\">\n",
       "  <thead>\n",
       "    <tr style=\"text-align: right;\">\n",
       "      <th></th>\n",
       "      <th>Unnamed: 0</th>\n",
       "      <th>Typ</th>\n",
       "      <th>Nr</th>\n",
       "      <th>Namn</th>\n",
       "      <th>Address1</th>\n",
       "      <th>Address3</th>\n",
       "      <th>Address4</th>\n",
       "      <th>Address5</th>\n",
       "      <th>Telefon</th>\n",
       "      <th>ADDRESS</th>\n",
       "      <th>location</th>\n",
       "      <th>point</th>\n",
       "    </tr>\n",
       "  </thead>\n",
       "  <tbody>\n",
       "    <tr>\n",
       "      <th>0</th>\n",
       "      <td>0</td>\n",
       "      <td>Butik</td>\n",
       "      <td>102</td>\n",
       "      <td>Fältöversten</td>\n",
       "      <td>Karlaplan 13</td>\n",
       "      <td>115 20</td>\n",
       "      <td>STOCKHOLM</td>\n",
       "      <td>Stockholms län</td>\n",
       "      <td>08/662 22 89</td>\n",
       "      <td>Karlaplan 13,115 20,STOCKHOLM,Stockholms län, ...</td>\n",
       "      <td>(Karlaplan, Harpan, Östermalm, Östermalms stad...</td>\n",
       "      <td>(59.337219, 18.0908107, 0.0)</td>\n",
       "    </tr>\n",
       "    <tr>\n",
       "      <th>1</th>\n",
       "      <td>1</td>\n",
       "      <td>Butik</td>\n",
       "      <td>104</td>\n",
       "      <td>NaN</td>\n",
       "      <td>Nybrogatan 47</td>\n",
       "      <td>114 39</td>\n",
       "      <td>STOCKHOLM</td>\n",
       "      <td>Stockholms län</td>\n",
       "      <td>08/662 50 16</td>\n",
       "      <td>Nybrogatan 47,114 39,STOCKHOLM,Stockholms län,...</td>\n",
       "      <td>(47, Nybrogatan, Brunfisken, Östermalm, Österm...</td>\n",
       "      <td>(59.3372072, 18.0790982, 0.0)</td>\n",
       "    </tr>\n",
       "    <tr>\n",
       "      <th>2</th>\n",
       "      <td>2</td>\n",
       "      <td>Butik</td>\n",
       "      <td>106</td>\n",
       "      <td>Garnisonen</td>\n",
       "      <td>Karlavägen 100 A</td>\n",
       "      <td>115 26</td>\n",
       "      <td>STOCKHOLM</td>\n",
       "      <td>Stockholms län</td>\n",
       "      <td>08/662 64 85</td>\n",
       "      <td>Karlavägen 100 A,115 26,STOCKHOLM,Stockholms l...</td>\n",
       "      <td>(Karlavägen, Batteriet, Östermalm, Östermalms ...</td>\n",
       "      <td>(59.3358717, 18.0995103, 0.0)</td>\n",
       "    </tr>\n",
       "    <tr>\n",
       "      <th>3</th>\n",
       "      <td>3</td>\n",
       "      <td>Butik</td>\n",
       "      <td>110</td>\n",
       "      <td>NaN</td>\n",
       "      <td>Hötorgshallen</td>\n",
       "      <td>111 57</td>\n",
       "      <td>STOCKHOLM</td>\n",
       "      <td>Stockholms län</td>\n",
       "      <td>08/56849241</td>\n",
       "      <td>Hötorgshallen,111 57,STOCKHOLM,Stockholms län,...</td>\n",
       "      <td>(Hötorgshallen, Hötorget, Konserthuset, Norrma...</td>\n",
       "      <td>(59.3343273, 18.0626039, 0.0)</td>\n",
       "    </tr>\n",
       "    <tr>\n",
       "      <th>4</th>\n",
       "      <td>4</td>\n",
       "      <td>Butik</td>\n",
       "      <td>113</td>\n",
       "      <td>Sergel</td>\n",
       "      <td>Drottninggatan 45</td>\n",
       "      <td>111 21</td>\n",
       "      <td>STOCKHOLM</td>\n",
       "      <td>Stockholms län</td>\n",
       "      <td>08/21 47 44</td>\n",
       "      <td>Drottninggatan 45,111 21,STOCKHOLM,Stockholms ...</td>\n",
       "      <td>(Drottninggatan, Klarabergsgatan, Norrmalm, No...</td>\n",
       "      <td>(59.3324377, 18.0626176, 0.0)</td>\n",
       "    </tr>\n",
       "  </tbody>\n",
       "</table>\n",
       "</div>"
      ],
      "text/plain": [
       "   Unnamed: 0    Typ   Nr          Namn           Address1 Address3  \\\n",
       "0           0  Butik  102  Fältöversten       Karlaplan 13   115 20   \n",
       "1           1  Butik  104           NaN      Nybrogatan 47   114 39   \n",
       "2           2  Butik  106    Garnisonen   Karlavägen 100 A   115 26   \n",
       "3           3  Butik  110           NaN      Hötorgshallen   111 57   \n",
       "4           4  Butik  113        Sergel  Drottninggatan 45   111 21   \n",
       "\n",
       "    Address4        Address5       Telefon  \\\n",
       "0  STOCKHOLM  Stockholms län  08/662 22 89   \n",
       "1  STOCKHOLM  Stockholms län  08/662 50 16   \n",
       "2  STOCKHOLM  Stockholms län  08/662 64 85   \n",
       "3  STOCKHOLM  Stockholms län   08/56849241   \n",
       "4  STOCKHOLM  Stockholms län   08/21 47 44   \n",
       "\n",
       "                                             ADDRESS  \\\n",
       "0  Karlaplan 13,115 20,STOCKHOLM,Stockholms län, ...   \n",
       "1  Nybrogatan 47,114 39,STOCKHOLM,Stockholms län,...   \n",
       "2  Karlavägen 100 A,115 26,STOCKHOLM,Stockholms l...   \n",
       "3  Hötorgshallen,111 57,STOCKHOLM,Stockholms län,...   \n",
       "4  Drottninggatan 45,111 21,STOCKHOLM,Stockholms ...   \n",
       "\n",
       "                                            location  \\\n",
       "0  (Karlaplan, Harpan, Östermalm, Östermalms stad...   \n",
       "1  (47, Nybrogatan, Brunfisken, Östermalm, Österm...   \n",
       "2  (Karlavägen, Batteriet, Östermalm, Östermalms ...   \n",
       "3  (Hötorgshallen, Hötorget, Konserthuset, Norrma...   \n",
       "4  (Drottninggatan, Klarabergsgatan, Norrmalm, No...   \n",
       "\n",
       "                           point  \n",
       "0   (59.337219, 18.0908107, 0.0)  \n",
       "1  (59.3372072, 18.0790982, 0.0)  \n",
       "2  (59.3358717, 18.0995103, 0.0)  \n",
       "3  (59.3343273, 18.0626039, 0.0)  \n",
       "4  (59.3324377, 18.0626176, 0.0)  "
      ]
     },
     "execution_count": 32,
     "metadata": {},
     "output_type": "execute_result"
    }
   ],
   "source": [
    "df.head()"
   ]
  },
  {
   "cell_type": "code",
   "execution_count": 33,
   "metadata": {},
   "outputs": [
    {
     "data": {
      "text/plain": [
       "59.337219"
      ]
     },
     "execution_count": 33,
     "metadata": {},
     "output_type": "execute_result"
    }
   ],
   "source": [
    "df['point'][0][0]"
   ]
  },
  {
   "cell_type": "code",
   "execution_count": 34,
   "metadata": {},
   "outputs": [
    {
     "data": {
      "text/html": [
       "<div>\n",
       "<style scoped>\n",
       "    .dataframe tbody tr th:only-of-type {\n",
       "        vertical-align: middle;\n",
       "    }\n",
       "\n",
       "    .dataframe tbody tr th {\n",
       "        vertical-align: top;\n",
       "    }\n",
       "\n",
       "    .dataframe thead th {\n",
       "        text-align: right;\n",
       "    }\n",
       "</style>\n",
       "<table border=\"1\" class=\"dataframe\">\n",
       "  <thead>\n",
       "    <tr style=\"text-align: right;\">\n",
       "      <th></th>\n",
       "      <th>Unnamed: 0</th>\n",
       "      <th>Typ</th>\n",
       "      <th>Nr</th>\n",
       "      <th>Namn</th>\n",
       "      <th>Address1</th>\n",
       "      <th>Address3</th>\n",
       "      <th>Address4</th>\n",
       "      <th>Address5</th>\n",
       "      <th>Telefon</th>\n",
       "      <th>ADDRESS</th>\n",
       "      <th>location</th>\n",
       "      <th>point</th>\n",
       "      <th>latitude</th>\n",
       "      <th>longitude</th>\n",
       "      <th>altitude</th>\n",
       "    </tr>\n",
       "  </thead>\n",
       "  <tbody>\n",
       "    <tr>\n",
       "      <th>0</th>\n",
       "      <td>0</td>\n",
       "      <td>Butik</td>\n",
       "      <td>102</td>\n",
       "      <td>Fältöversten</td>\n",
       "      <td>Karlaplan 13</td>\n",
       "      <td>115 20</td>\n",
       "      <td>STOCKHOLM</td>\n",
       "      <td>Stockholms län</td>\n",
       "      <td>08/662 22 89</td>\n",
       "      <td>Karlaplan 13,115 20,STOCKHOLM,Stockholms län, ...</td>\n",
       "      <td>(Karlaplan, Harpan, Östermalm, Östermalms stad...</td>\n",
       "      <td>(59.337219, 18.0908107, 0.0)</td>\n",
       "      <td>59.337219</td>\n",
       "      <td>18.090811</td>\n",
       "      <td>0.0</td>\n",
       "    </tr>\n",
       "    <tr>\n",
       "      <th>1</th>\n",
       "      <td>1</td>\n",
       "      <td>Butik</td>\n",
       "      <td>104</td>\n",
       "      <td>NaN</td>\n",
       "      <td>Nybrogatan 47</td>\n",
       "      <td>114 39</td>\n",
       "      <td>STOCKHOLM</td>\n",
       "      <td>Stockholms län</td>\n",
       "      <td>08/662 50 16</td>\n",
       "      <td>Nybrogatan 47,114 39,STOCKHOLM,Stockholms län,...</td>\n",
       "      <td>(47, Nybrogatan, Brunfisken, Östermalm, Österm...</td>\n",
       "      <td>(59.3372072, 18.0790982, 0.0)</td>\n",
       "      <td>59.337207</td>\n",
       "      <td>18.079098</td>\n",
       "      <td>0.0</td>\n",
       "    </tr>\n",
       "    <tr>\n",
       "      <th>2</th>\n",
       "      <td>2</td>\n",
       "      <td>Butik</td>\n",
       "      <td>106</td>\n",
       "      <td>Garnisonen</td>\n",
       "      <td>Karlavägen 100 A</td>\n",
       "      <td>115 26</td>\n",
       "      <td>STOCKHOLM</td>\n",
       "      <td>Stockholms län</td>\n",
       "      <td>08/662 64 85</td>\n",
       "      <td>Karlavägen 100 A,115 26,STOCKHOLM,Stockholms l...</td>\n",
       "      <td>(Karlavägen, Batteriet, Östermalm, Östermalms ...</td>\n",
       "      <td>(59.3358717, 18.0995103, 0.0)</td>\n",
       "      <td>59.335872</td>\n",
       "      <td>18.099510</td>\n",
       "      <td>0.0</td>\n",
       "    </tr>\n",
       "    <tr>\n",
       "      <th>3</th>\n",
       "      <td>3</td>\n",
       "      <td>Butik</td>\n",
       "      <td>110</td>\n",
       "      <td>NaN</td>\n",
       "      <td>Hötorgshallen</td>\n",
       "      <td>111 57</td>\n",
       "      <td>STOCKHOLM</td>\n",
       "      <td>Stockholms län</td>\n",
       "      <td>08/56849241</td>\n",
       "      <td>Hötorgshallen,111 57,STOCKHOLM,Stockholms län,...</td>\n",
       "      <td>(Hötorgshallen, Hötorget, Konserthuset, Norrma...</td>\n",
       "      <td>(59.3343273, 18.0626039, 0.0)</td>\n",
       "      <td>59.334327</td>\n",
       "      <td>18.062604</td>\n",
       "      <td>0.0</td>\n",
       "    </tr>\n",
       "    <tr>\n",
       "      <th>4</th>\n",
       "      <td>4</td>\n",
       "      <td>Butik</td>\n",
       "      <td>113</td>\n",
       "      <td>Sergel</td>\n",
       "      <td>Drottninggatan 45</td>\n",
       "      <td>111 21</td>\n",
       "      <td>STOCKHOLM</td>\n",
       "      <td>Stockholms län</td>\n",
       "      <td>08/21 47 44</td>\n",
       "      <td>Drottninggatan 45,111 21,STOCKHOLM,Stockholms ...</td>\n",
       "      <td>(Drottninggatan, Klarabergsgatan, Norrmalm, No...</td>\n",
       "      <td>(59.3324377, 18.0626176, 0.0)</td>\n",
       "      <td>59.332438</td>\n",
       "      <td>18.062618</td>\n",
       "      <td>0.0</td>\n",
       "    </tr>\n",
       "  </tbody>\n",
       "</table>\n",
       "</div>"
      ],
      "text/plain": [
       "   Unnamed: 0    Typ   Nr          Namn           Address1 Address3  \\\n",
       "0           0  Butik  102  Fältöversten       Karlaplan 13   115 20   \n",
       "1           1  Butik  104           NaN      Nybrogatan 47   114 39   \n",
       "2           2  Butik  106    Garnisonen   Karlavägen 100 A   115 26   \n",
       "3           3  Butik  110           NaN      Hötorgshallen   111 57   \n",
       "4           4  Butik  113        Sergel  Drottninggatan 45   111 21   \n",
       "\n",
       "    Address4        Address5       Telefon  \\\n",
       "0  STOCKHOLM  Stockholms län  08/662 22 89   \n",
       "1  STOCKHOLM  Stockholms län  08/662 50 16   \n",
       "2  STOCKHOLM  Stockholms län  08/662 64 85   \n",
       "3  STOCKHOLM  Stockholms län   08/56849241   \n",
       "4  STOCKHOLM  Stockholms län   08/21 47 44   \n",
       "\n",
       "                                             ADDRESS  \\\n",
       "0  Karlaplan 13,115 20,STOCKHOLM,Stockholms län, ...   \n",
       "1  Nybrogatan 47,114 39,STOCKHOLM,Stockholms län,...   \n",
       "2  Karlavägen 100 A,115 26,STOCKHOLM,Stockholms l...   \n",
       "3  Hötorgshallen,111 57,STOCKHOLM,Stockholms län,...   \n",
       "4  Drottninggatan 45,111 21,STOCKHOLM,Stockholms ...   \n",
       "\n",
       "                                            location  \\\n",
       "0  (Karlaplan, Harpan, Östermalm, Östermalms stad...   \n",
       "1  (47, Nybrogatan, Brunfisken, Östermalm, Österm...   \n",
       "2  (Karlavägen, Batteriet, Östermalm, Östermalms ...   \n",
       "3  (Hötorgshallen, Hötorget, Konserthuset, Norrma...   \n",
       "4  (Drottninggatan, Klarabergsgatan, Norrmalm, No...   \n",
       "\n",
       "                           point   latitude  longitude  altitude  \n",
       "0   (59.337219, 18.0908107, 0.0)  59.337219  18.090811       0.0  \n",
       "1  (59.3372072, 18.0790982, 0.0)  59.337207  18.079098       0.0  \n",
       "2  (59.3358717, 18.0995103, 0.0)  59.335872  18.099510       0.0  \n",
       "3  (59.3343273, 18.0626039, 0.0)  59.334327  18.062604       0.0  \n",
       "4  (59.3324377, 18.0626176, 0.0)  59.332438  18.062618       0.0  "
      ]
     },
     "execution_count": 34,
     "metadata": {},
     "output_type": "execute_result"
    }
   ],
   "source": [
    "# split point column into latitude, longitude and altitude columns\n",
    "df[['latitude', 'longitude', 'altitude']] = pd.DataFrame(df['point'].tolist(), index=df.index)\n",
    "df.head()"
   ]
  },
  {
   "cell_type": "code",
   "execution_count": 35,
   "metadata": {},
   "outputs": [],
   "source": [
    "df = df.drop(['Address1', 'Address3', 'Address4', 'Address5','Telefon', 'ADDRESS', 'location', 'point'], axis=1)"
   ]
  },
  {
   "cell_type": "code",
   "execution_count": 36,
   "metadata": {},
   "outputs": [
    {
     "data": {
      "text/html": [
       "<div>\n",
       "<style scoped>\n",
       "    .dataframe tbody tr th:only-of-type {\n",
       "        vertical-align: middle;\n",
       "    }\n",
       "\n",
       "    .dataframe tbody tr th {\n",
       "        vertical-align: top;\n",
       "    }\n",
       "\n",
       "    .dataframe thead th {\n",
       "        text-align: right;\n",
       "    }\n",
       "</style>\n",
       "<table border=\"1\" class=\"dataframe\">\n",
       "  <thead>\n",
       "    <tr style=\"text-align: right;\">\n",
       "      <th></th>\n",
       "      <th>Unnamed: 0</th>\n",
       "      <th>Typ</th>\n",
       "      <th>Nr</th>\n",
       "      <th>Namn</th>\n",
       "      <th>latitude</th>\n",
       "      <th>longitude</th>\n",
       "      <th>altitude</th>\n",
       "    </tr>\n",
       "  </thead>\n",
       "  <tbody>\n",
       "    <tr>\n",
       "      <th>0</th>\n",
       "      <td>0</td>\n",
       "      <td>Butik</td>\n",
       "      <td>102</td>\n",
       "      <td>Fältöversten</td>\n",
       "      <td>59.337219</td>\n",
       "      <td>18.090811</td>\n",
       "      <td>0.0</td>\n",
       "    </tr>\n",
       "    <tr>\n",
       "      <th>1</th>\n",
       "      <td>1</td>\n",
       "      <td>Butik</td>\n",
       "      <td>104</td>\n",
       "      <td>NaN</td>\n",
       "      <td>59.337207</td>\n",
       "      <td>18.079098</td>\n",
       "      <td>0.0</td>\n",
       "    </tr>\n",
       "    <tr>\n",
       "      <th>2</th>\n",
       "      <td>2</td>\n",
       "      <td>Butik</td>\n",
       "      <td>106</td>\n",
       "      <td>Garnisonen</td>\n",
       "      <td>59.335872</td>\n",
       "      <td>18.099510</td>\n",
       "      <td>0.0</td>\n",
       "    </tr>\n",
       "    <tr>\n",
       "      <th>3</th>\n",
       "      <td>3</td>\n",
       "      <td>Butik</td>\n",
       "      <td>110</td>\n",
       "      <td>NaN</td>\n",
       "      <td>59.334327</td>\n",
       "      <td>18.062604</td>\n",
       "      <td>0.0</td>\n",
       "    </tr>\n",
       "    <tr>\n",
       "      <th>4</th>\n",
       "      <td>4</td>\n",
       "      <td>Butik</td>\n",
       "      <td>113</td>\n",
       "      <td>Sergel</td>\n",
       "      <td>59.332438</td>\n",
       "      <td>18.062618</td>\n",
       "      <td>0.0</td>\n",
       "    </tr>\n",
       "  </tbody>\n",
       "</table>\n",
       "</div>"
      ],
      "text/plain": [
       "   Unnamed: 0    Typ   Nr          Namn   latitude  longitude  altitude\n",
       "0           0  Butik  102  Fältöversten  59.337219  18.090811       0.0\n",
       "1           1  Butik  104           NaN  59.337207  18.079098       0.0\n",
       "2           2  Butik  106    Garnisonen  59.335872  18.099510       0.0\n",
       "3           3  Butik  110           NaN  59.334327  18.062604       0.0\n",
       "4           4  Butik  113        Sergel  59.332438  18.062618       0.0"
      ]
     },
     "execution_count": 36,
     "metadata": {},
     "output_type": "execute_result"
    }
   ],
   "source": [
    "df.head()"
   ]
  },
  {
   "cell_type": "code",
   "execution_count": 37,
   "metadata": {},
   "outputs": [],
   "source": [
    "df = df[pd.notnull(df[\"latitude\"])]"
   ]
  },
  {
   "cell_type": "code",
   "execution_count": 38,
   "metadata": {},
   "outputs": [],
   "source": [
    "map1 = folium.Map(\n",
    "    location=[59.338315,18.089960],\n",
    "    tiles='cartodbpositron',\n",
    "    zoom_start=12,\n",
    ")"
   ]
  },
  {
   "cell_type": "code",
   "execution_count": 39,
   "metadata": {},
   "outputs": [
    {
     "data": {
      "text/html": [
       "<div style=\"width:100%;\"><div style=\"position:relative;width:100%;height:0;padding-bottom:60%;\"><iframe src=\"about:blank\" style=\"position:absolute;width:100%;height:100%;left:0;top:0;border:none !important;\" data-html=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 onload=\"this.contentDocument.open();this.contentDocument.write(atob(this.getAttribute('data-html')));this.contentDocument.close();\" allowfullscreen webkitallowfullscreen mozallowfullscreen></iframe></div></div>"
      ],
      "text/plain": [
       "<folium.folium.Map at 0x267d51b2da0>"
      ]
     },
     "execution_count": 39,
     "metadata": {},
     "output_type": "execute_result"
    }
   ],
   "source": [
    "df.apply(lambda row:folium.CircleMarker(location=[row[\"latitude\"], row[\"longitude\"]]).add_to(map1), axis=1)\n",
    "map1"
   ]
  },
  {
   "cell_type": "code",
   "execution_count": 40,
   "metadata": {},
   "outputs": [],
   "source": [
    "map1.save(\"map1.html\")"
   ]
  },
  {
   "cell_type": "code",
   "execution_count": 41,
   "metadata": {},
   "outputs": [
    {
     "data": {
      "text/html": [
       "<div style=\"width:100%;\"><div style=\"position:relative;width:100%;height:0;padding-bottom:60%;\"><iframe src=\"about:blank\" style=\"position:absolute;width:100%;height:100%;left:0;top:0;border:none !important;\" data-html=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 onload=\"this.contentDocument.open();this.contentDocument.write(atob(this.getAttribute('data-html')));this.contentDocument.close();\" allowfullscreen webkitallowfullscreen mozallowfullscreen></iframe></div></div>"
      ],
      "text/plain": [
       "<folium.folium.Map at 0x267d51bd4a8>"
      ]
     },
     "execution_count": 41,
     "metadata": {},
     "output_type": "execute_result"
    }
   ],
   "source": [
    "folium_map = folium.Map(location=[59.338315,18.089960],\n",
    "                        zoom_start=12,\n",
    "                        tiles='CartoDB dark_matter')\n",
    "\n",
    "\n",
    "FastMarkerCluster(data=list(zip(df['latitude'].values, df['longitude'].values))).add_to(folium_map)\n",
    "folium.LayerControl().add_to(folium_map)\n",
    "folium_map"
   ]
  },
  {
   "cell_type": "code",
   "execution_count": 59,
   "metadata": {},
   "outputs": [],
   "source": [
    "folium_map.save(\"map2.html\")"
   ]
  },
  {
   "cell_type": "code",
   "execution_count": 63,
   "metadata": {},
   "outputs": [
    {
     "ename": "NameError",
     "evalue": "name 'plot_data' is not defined",
     "output_type": "error",
     "traceback": [
      "\u001b[1;31m---------------------------------------------------------------------------\u001b[0m",
      "\u001b[1;31mNameError\u001b[0m                                 Traceback (most recent call last)",
      "\u001b[1;32m<ipython-input-63-c1178c84bb68>\u001b[0m in \u001b[0;36m<module>\u001b[1;34m\u001b[0m\n\u001b[0;32m      3\u001b[0m \u001b[1;31m# choropleth maps bind Pandas Data Frames and json geometries.\u001b[0m\u001b[1;33m\u001b[0m\u001b[1;33m\u001b[0m\u001b[1;33m\u001b[0m\u001b[0m\n\u001b[0;32m      4\u001b[0m \u001b[1;31m#This allows us to quickly visualize data combinations\u001b[0m\u001b[1;33m\u001b[0m\u001b[1;33m\u001b[0m\u001b[1;33m\u001b[0m\u001b[0m\n\u001b[1;32m----> 5\u001b[1;33m map.choropleth(geo_data=country_geo, data=plot_data,\n\u001b[0m\u001b[0;32m      6\u001b[0m              \u001b[0mcolumns\u001b[0m\u001b[1;33m=\u001b[0m\u001b[1;33m[\u001b[0m\u001b[1;34m'CountryCode'\u001b[0m\u001b[1;33m,\u001b[0m \u001b[1;34m'Value'\u001b[0m\u001b[1;33m]\u001b[0m\u001b[1;33m,\u001b[0m\u001b[1;33m\u001b[0m\u001b[1;33m\u001b[0m\u001b[0m\n\u001b[0;32m      7\u001b[0m              \u001b[0mkey_on\u001b[0m\u001b[1;33m=\u001b[0m\u001b[1;34m'feature.id'\u001b[0m\u001b[1;33m,\u001b[0m\u001b[1;33m\u001b[0m\u001b[1;33m\u001b[0m\u001b[0m\n",
      "\u001b[1;31mNameError\u001b[0m: name 'plot_data' is not defined"
     ]
    }
   ],
   "source": [
    "\n",
    "map = folium.Map(location=[100, 0], zoom_start=1.5)\n",
    "\n",
    "# choropleth maps bind Pandas Data Frames and json geometries.\n",
    "#This allows us to quickly visualize data combinations\n",
    "map.choropleth(geo_data=country_geo, data=plot_data,\n",
    "             columns=['CountryCode', 'Value'],\n",
    "             key_on='feature.id',\n",
    "             fill_color='YlGnBu', fill_opacity=0.7, line_opacity=0.2,\n",
    "             legend_name=hist_indicator)"
   ]
  },
  {
   "cell_type": "code",
   "execution_count": null,
   "metadata": {},
   "outputs": [],
   "source": []
  }
 ],
 "metadata": {
  "kernelspec": {
   "display_name": "Python 3",
   "language": "python",
   "name": "python3"
  },
  "language_info": {
   "codemirror_mode": {
    "name": "ipython",
    "version": 3
   },
   "file_extension": ".py",
   "mimetype": "text/x-python",
   "name": "python",
   "nbconvert_exporter": "python",
   "pygments_lexer": "ipython3",
   "version": "3.7.2"
  }
 },
 "nbformat": 4,
 "nbformat_minor": 4
}
